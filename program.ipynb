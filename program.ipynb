{
 "cells": [
  {
   "cell_type": "code",
   "execution_count": 1,
   "metadata": {},
   "outputs": [
    {
     "name": "stdout",
     "output_type": "stream",
     "text": [
      "enter string:shlok parikh\n",
      "12\n"
     ]
    }
   ],
   "source": [
    "#WAP to find out length of string without using len function\n",
    "s=input(\"enter string:\")\n",
    "count=0\n",
    "for i in s:\n",
    "    count=count+1\n",
    "print(\"length of string:\",count)"
   ]
  },
  {
   "cell_type": "code",
   "execution_count": 4,
   "metadata": {},
   "outputs": [
    {
     "name": "stdout",
     "output_type": "stream",
     "text": [
      "enter string:hello\n",
      "string is not palindrome\n"
     ]
    }
   ],
   "source": [
    "#WAP function to check whether the given string is palindrom or not\n",
    "s=input(\"enter string:\")\n",
    "def pali(s):\n",
    "    return s==s[::-1]\n",
    "ans=pali(s)\n",
    "if ans==1:\n",
    "    print(\"string is palindrome\")\n",
    "else:\n",
    "    print(\"string is not palindrome\")\n"
   ]
  },
  {
   "cell_type": "code",
   "execution_count": 9,
   "metadata": {},
   "outputs": [
    {
     "name": "stdout",
     "output_type": "stream",
     "text": [
      "enter string:hsdyGJ 545 hF\n",
      "upeer lettter:3\n",
      "lower lettter:5\n",
      "digits:3\n",
      "Symbol:0\n",
      "space:2\n"
     ]
    }
   ],
   "source": [
    "s=input(\"enter string:\")\n",
    "u,l,d,sy,sp=0,0,0,0,0\n",
    "for i in s:\n",
    "    if i.isupper():\n",
    "        u+=1\n",
    "    elif i.islower():\n",
    "        l+=1\n",
    "    elif i.isdigit():\n",
    "        d+=1\n",
    "    elif i.isspace():\n",
    "        sp+=1\n",
    "    else:\n",
    "        sy+=1\n",
    "print(f\"upeer lettter:{u}\")\n",
    "print(f\"lower lettter:{l}\")\n",
    "print(f\"digits:{d}\")\n",
    "print(f\"Symbol:{sy}\")\n",
    "print(f\"space:{sp}\")"
   ]
  },
  {
   "cell_type": "code",
   "execution_count": 12,
   "metadata": {},
   "outputs": [
    {
     "name": "stdout",
     "output_type": "stream",
     "text": [
      "enter string:dfyh12345\n",
      "the sum is: 15\n",
      "the average is:  3.0\n"
     ]
    }
   ],
   "source": [
    "s=input(\"enter string:\")\n",
    "sum=0\n",
    "count=0\n",
    "for i in s:\n",
    "    if i.isdigit():\n",
    "        sum=sum+int(i)\n",
    "        count=count+1\n",
    "avg=sum/count\n",
    "print(\"the sum is:\",sum)\n",
    "print(\"the average is: \",avg)"
   ]
  },
  {
   "cell_type": "code",
   "execution_count": 16,
   "metadata": {},
   "outputs": [
    {
     "name": "stdout",
     "output_type": "stream",
     "text": [
      "enter string:hii everyone i am hslokio\n",
      "enter substring:i\n",
      "inedx: 1\n",
      "inedx: 2\n",
      "inedx: 13\n",
      "inedx: 23\n",
      "the count: 4\n"
     ]
    }
   ],
   "source": [
    "s=input(\"enter string:\")\n",
    "s1=input(\"enter substring:\")\n",
    "c=0\n",
    "for i in range(len(s)):\n",
    "     if s[i]==s1:\n",
    "        print(\"inedx:\",i)\n",
    "        c+=1\n",
    "if c!=0:\n",
    "    print(\"the count:\",c)\n",
    "else:\n",
    "    print(\"not found\")\n"
   ]
  },
  {
   "cell_type": "code",
   "execution_count": 18,
   "metadata": {},
   "outputs": [
    {
     "name": "stdout",
     "output_type": "stream",
     "text": [
      "enter string:hello worlo\n",
      "enter substring:lo\n",
      "index 3\n",
      "total count 1\n",
      "index 9\n",
      "total count 2\n"
     ]
    }
   ],
   "source": [
    "s=input(\"enter string:\")\n",
    "s1=input(\"enter substring:\")\n",
    "c=0\n",
    "l=len(s)\n",
    "pos=-1\n",
    "flag=False\n",
    "while True:\n",
    "    pos=s.find(s1,pos+1,l)\n",
    "    if pos==-1:\n",
    "        break\n",
    "    c+=1\n",
    "    print(\"index\",pos)\n",
    "    flag=True\n",
    "    if flag==False:\n",
    "        print(\"not found\")\n",
    "    print(\"total count\",c)\n",
    "        "
   ]
  },
  {
   "cell_type": "code",
   "execution_count": 19,
   "metadata": {},
   "outputs": [
    {
     "name": "stdout",
     "output_type": "stream",
     "text": [
      "enter string:shlok\n",
      "slk\n"
     ]
    }
   ],
   "source": [
    "s=input(\"enter string:\")\n",
    "output=\"\"\n",
    "a=len(s)\n",
    "first=s[0]\n",
    "output=output+first\n",
    "m=int(a/2)\n",
    "middle=s[m]\n",
    "output=output+middle\n",
    "last=s[-1]\n",
    "output=output+last\n",
    "print(output)"
   ]
  },
  {
   "cell_type": "code",
   "execution_count": 21,
   "metadata": {},
   "outputs": [
    {
     "data": {
      "text/plain": [
       "'s=input(\"enter string:\")\\ns1=input(\"enter second string:\")\\noutput=\"\"\\ni,j=0,0\\nwhile i<len(s) or j<len(s1):\\n    output='"
      ]
     },
     "execution_count": 21,
     "metadata": {},
     "output_type": "execute_result"
    }
   ],
   "source": [
    "'''s=input(\"enter string:\")\n",
    "s1=input(\"enter second string:\")\n",
    "output=\"\"\n",
    "i,j=0,0\n",
    "while i<len(s) or j<len(s1):\n",
    "    output='''\n",
    "#bane string nu addition letter pramane\n"
   ]
  },
  {
   "cell_type": "code",
   "execution_count": 30,
   "metadata": {},
   "outputs": [
    {
     "name": "stdout",
     "output_type": "stream",
     "text": [
      "enter string:Shlo458#$@K\n",
      "['#', '$', '4', '5', '8', '@', 'K', 'S', 'h', 'l', 'o']\n"
     ]
    }
   ],
   "source": [
    "s=input(\"enter string:\")\n",
    "s1=\"\"\n",
    "s2=\"\"\n",
    "s3=\"\"\n",
    "\n",
    "for i in s:\n",
    "    if i.isalpha():\n",
    "        s1+=i\n",
    "    elif i.isdigit():\n",
    "        s2+=i\n",
    "    else:\n",
    "        s3+=i\n",
    "fs=s1+s2+s3\n",
    "print(sorted(fs))"
   ]
  },
  {
   "cell_type": "code",
   "execution_count": null,
   "metadata": {},
   "outputs": [],
   "source": []
  }
 ],
 "metadata": {
  "kernelspec": {
   "display_name": "Python 3",
   "language": "python",
   "name": "python3"
  },
  "language_info": {
   "codemirror_mode": {
    "name": "ipython",
    "version": 3
   },
   "file_extension": ".py",
   "mimetype": "text/x-python",
   "name": "python",
   "nbconvert_exporter": "python",
   "pygments_lexer": "ipython3",
   "version": "3.8.5"
  }
 },
 "nbformat": 4,
 "nbformat_minor": 4
}
